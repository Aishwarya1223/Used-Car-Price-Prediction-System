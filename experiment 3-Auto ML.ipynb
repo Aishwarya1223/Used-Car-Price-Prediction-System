{
 "cells": [
  {
   "cell_type": "code",
   "execution_count": 1,
   "id": "d3701c5e",
   "metadata": {},
   "outputs": [
    {
     "name": "stderr",
     "output_type": "stream",
     "text": [
      "d:\\Code files\\Used Car Price Prediction\\.venv\\Lib\\site-packages\\tqdm\\auto.py:21: TqdmWarning: IProgress not found. Please update jupyter and ipywidgets. See https://ipywidgets.readthedocs.io/en/stable/user_install.html\n",
      "  from .autonotebook import tqdm as notebook_tqdm\n"
     ]
    }
   ],
   "source": [
    "#import autosklearn.regression as sk\n",
    "from sklearn.model_selection import train_test_split\n",
    "from sklearn.metrics import mean_absolute_error,mean_squared_error,root_mean_squared_error,r2_score,confusion_matrix,classification_report\n",
    "import autokeras as ak\n",
    "import pandas as pd\n",
    "import numpy as np\n",
    "import matplotlib.pyplot as plt\n",
    "import seaborn as sns\n",
    "import tensorflow as tf\n",
    "import joblib\n",
    "import h2o\n",
    "from h2o.automl import H2OAutoML\n",
    "import shap\n",
    "from sklearn.preprocessing import StandardScaler\n",
    "from autokeras import Input, RegressionHead, AutoModel\n",
    "from autokeras import RegressionHead, AutoModel\n",
    "from keras.models import load_model"
   ]
  },
  {
   "cell_type": "code",
   "execution_count": 2,
   "id": "658cdd02",
   "metadata": {},
   "outputs": [
    {
     "data": {
      "text/html": [
       "<div>\n",
       "<style scoped>\n",
       "    .dataframe tbody tr th:only-of-type {\n",
       "        vertical-align: middle;\n",
       "    }\n",
       "\n",
       "    .dataframe tbody tr th {\n",
       "        vertical-align: top;\n",
       "    }\n",
       "\n",
       "    .dataframe thead th {\n",
       "        text-align: right;\n",
       "    }\n",
       "</style>\n",
       "<table border=\"1\" class=\"dataframe\">\n",
       "  <thead>\n",
       "    <tr style=\"text-align: right;\">\n",
       "      <th></th>\n",
       "      <th>year</th>\n",
       "      <th>price</th>\n",
       "      <th>mileage</th>\n",
       "      <th>tax</th>\n",
       "      <th>mpg</th>\n",
       "      <th>engineSize</th>\n",
       "      <th>transmission_Manual</th>\n",
       "      <th>transmission_Automatic</th>\n",
       "      <th>transmission_Semi-Auto</th>\n",
       "      <th>transmission_Other</th>\n",
       "      <th>fuelType_Petrol</th>\n",
       "      <th>fuelType_Diesel</th>\n",
       "      <th>fuelType_Hybrid</th>\n",
       "      <th>fuelType_Other</th>\n",
       "      <th>fuelType_Electric</th>\n",
       "      <th>model_encoded</th>\n",
       "      <th>brand_encoded</th>\n",
       "    </tr>\n",
       "  </thead>\n",
       "  <tbody>\n",
       "    <tr>\n",
       "      <th>0</th>\n",
       "      <td>2017</td>\n",
       "      <td>12500</td>\n",
       "      <td>15735</td>\n",
       "      <td>150.0</td>\n",
       "      <td>55.4</td>\n",
       "      <td>1.4</td>\n",
       "      <td>1.0</td>\n",
       "      <td>0.0</td>\n",
       "      <td>0.0</td>\n",
       "      <td>0.0</td>\n",
       "      <td>1.0</td>\n",
       "      <td>0.0</td>\n",
       "      <td>0.0</td>\n",
       "      <td>0.0</td>\n",
       "      <td>0.0</td>\n",
       "      <td>14327.750557</td>\n",
       "      <td>22896.685039</td>\n",
       "    </tr>\n",
       "    <tr>\n",
       "      <th>1</th>\n",
       "      <td>2016</td>\n",
       "      <td>16500</td>\n",
       "      <td>36203</td>\n",
       "      <td>20.0</td>\n",
       "      <td>64.2</td>\n",
       "      <td>2.0</td>\n",
       "      <td>0.0</td>\n",
       "      <td>1.0</td>\n",
       "      <td>0.0</td>\n",
       "      <td>0.0</td>\n",
       "      <td>0.0</td>\n",
       "      <td>1.0</td>\n",
       "      <td>0.0</td>\n",
       "      <td>0.0</td>\n",
       "      <td>0.0</td>\n",
       "      <td>22695.385027</td>\n",
       "      <td>22896.685039</td>\n",
       "    </tr>\n",
       "    <tr>\n",
       "      <th>2</th>\n",
       "      <td>2016</td>\n",
       "      <td>11000</td>\n",
       "      <td>29946</td>\n",
       "      <td>30.0</td>\n",
       "      <td>55.4</td>\n",
       "      <td>1.4</td>\n",
       "      <td>1.0</td>\n",
       "      <td>0.0</td>\n",
       "      <td>0.0</td>\n",
       "      <td>0.0</td>\n",
       "      <td>1.0</td>\n",
       "      <td>0.0</td>\n",
       "      <td>0.0</td>\n",
       "      <td>0.0</td>\n",
       "      <td>0.0</td>\n",
       "      <td>14327.750557</td>\n",
       "      <td>22896.685039</td>\n",
       "    </tr>\n",
       "    <tr>\n",
       "      <th>3</th>\n",
       "      <td>2017</td>\n",
       "      <td>16800</td>\n",
       "      <td>25952</td>\n",
       "      <td>145.0</td>\n",
       "      <td>67.3</td>\n",
       "      <td>2.0</td>\n",
       "      <td>0.0</td>\n",
       "      <td>1.0</td>\n",
       "      <td>0.0</td>\n",
       "      <td>0.0</td>\n",
       "      <td>0.0</td>\n",
       "      <td>1.0</td>\n",
       "      <td>0.0</td>\n",
       "      <td>0.0</td>\n",
       "      <td>0.0</td>\n",
       "      <td>20255.450398</td>\n",
       "      <td>22896.685039</td>\n",
       "    </tr>\n",
       "    <tr>\n",
       "      <th>4</th>\n",
       "      <td>2019</td>\n",
       "      <td>17300</td>\n",
       "      <td>1998</td>\n",
       "      <td>145.0</td>\n",
       "      <td>49.6</td>\n",
       "      <td>1.0</td>\n",
       "      <td>1.0</td>\n",
       "      <td>0.0</td>\n",
       "      <td>0.0</td>\n",
       "      <td>0.0</td>\n",
       "      <td>1.0</td>\n",
       "      <td>0.0</td>\n",
       "      <td>0.0</td>\n",
       "      <td>0.0</td>\n",
       "      <td>0.0</td>\n",
       "      <td>17408.522032</td>\n",
       "      <td>22896.685039</td>\n",
       "    </tr>\n",
       "  </tbody>\n",
       "</table>\n",
       "</div>"
      ],
      "text/plain": [
       "   year  price  mileage    tax   mpg  engineSize  transmission_Manual  \\\n",
       "0  2017  12500    15735  150.0  55.4         1.4                  1.0   \n",
       "1  2016  16500    36203   20.0  64.2         2.0                  0.0   \n",
       "2  2016  11000    29946   30.0  55.4         1.4                  1.0   \n",
       "3  2017  16800    25952  145.0  67.3         2.0                  0.0   \n",
       "4  2019  17300     1998  145.0  49.6         1.0                  1.0   \n",
       "\n",
       "   transmission_Automatic  transmission_Semi-Auto  transmission_Other  \\\n",
       "0                     0.0                     0.0                 0.0   \n",
       "1                     1.0                     0.0                 0.0   \n",
       "2                     0.0                     0.0                 0.0   \n",
       "3                     1.0                     0.0                 0.0   \n",
       "4                     0.0                     0.0                 0.0   \n",
       "\n",
       "   fuelType_Petrol  fuelType_Diesel  fuelType_Hybrid  fuelType_Other  \\\n",
       "0              1.0              0.0              0.0             0.0   \n",
       "1              0.0              1.0              0.0             0.0   \n",
       "2              1.0              0.0              0.0             0.0   \n",
       "3              0.0              1.0              0.0             0.0   \n",
       "4              1.0              0.0              0.0             0.0   \n",
       "\n",
       "   fuelType_Electric  model_encoded  brand_encoded  \n",
       "0                0.0   14327.750557   22896.685039  \n",
       "1                0.0   22695.385027   22896.685039  \n",
       "2                0.0   14327.750557   22896.685039  \n",
       "3                0.0   20255.450398   22896.685039  \n",
       "4                0.0   17408.522032   22896.685039  "
      ]
     },
     "execution_count": 2,
     "metadata": {},
     "output_type": "execute_result"
    }
   ],
   "source": [
    "data=pd.read_csv('processed_data/preprocessed_data.csv')\n",
    "data.head()"
   ]
  },
  {
   "cell_type": "code",
   "execution_count": 3,
   "id": "b19856b4",
   "metadata": {},
   "outputs": [],
   "source": [
    "x=data.drop('price',axis=1).values\n",
    "y=data['price'].values"
   ]
  },
  {
   "cell_type": "code",
   "execution_count": 4,
   "id": "b61b4890",
   "metadata": {},
   "outputs": [],
   "source": [
    "train_df,test_df=train_test_split(data,test_size=0.2,random_state=42)"
   ]
  },
  {
   "cell_type": "code",
   "execution_count": 5,
   "id": "5476a7fa",
   "metadata": {},
   "outputs": [],
   "source": [
    "x_train,x_test,y_train,y_test=train_test_split(x,y,test_size=0.2,random_state=42)"
   ]
  },
  {
   "cell_type": "code",
   "execution_count": 6,
   "id": "38bf9487",
   "metadata": {},
   "outputs": [
    {
     "name": "stdout",
     "output_type": "stream",
     "text": [
      "Checking whether there is an H2O instance running at http://localhost:54321..... not found.\n",
      "Attempting to start a local H2O server...\n",
      "; Java HotSpot(TM) 64-Bit Server VM (build 22.0.1+8-16, mixed mode, sharing)\n",
      "  Starting server from D:\\Code files\\Used Car Price Prediction\\.venv\\Lib\\site-packages\\h2o\\backend\\bin\\h2o.jar\n",
      "  Ice root: C:\\Users\\aishw\\AppData\\Local\\Temp\\tmpktxjkvlz\n",
      "  JVM stdout: C:\\Users\\aishw\\AppData\\Local\\Temp\\tmpktxjkvlz\\h2o_aishw_started_from_python.out\n",
      "  JVM stderr: C:\\Users\\aishw\\AppData\\Local\\Temp\\tmpktxjkvlz\\h2o_aishw_started_from_python.err\n",
      "  Server is running at http://127.0.0.1:54321\n",
      "Connecting to H2O server at http://127.0.0.1:54321 ... successful.\n"
     ]
    },
    {
     "data": {
      "text/html": [
       "\n",
       "<style>\n",
       "\n",
       "#h2o-table-1.h2o-container {\n",
       "  overflow-x: auto;\n",
       "}\n",
       "#h2o-table-1 .h2o-table {\n",
       "  /* width: 100%; */\n",
       "  margin-top: 1em;\n",
       "  margin-bottom: 1em;\n",
       "}\n",
       "#h2o-table-1 .h2o-table caption {\n",
       "  white-space: nowrap;\n",
       "  caption-side: top;\n",
       "  text-align: left;\n",
       "  /* margin-left: 1em; */\n",
       "  margin: 0;\n",
       "  font-size: larger;\n",
       "}\n",
       "#h2o-table-1 .h2o-table thead {\n",
       "  white-space: nowrap; \n",
       "  position: sticky;\n",
       "  top: 0;\n",
       "  box-shadow: 0 -1px inset;\n",
       "}\n",
       "#h2o-table-1 .h2o-table tbody {\n",
       "  overflow: auto;\n",
       "}\n",
       "#h2o-table-1 .h2o-table th,\n",
       "#h2o-table-1 .h2o-table td {\n",
       "  text-align: right;\n",
       "  /* border: 1px solid; */\n",
       "}\n",
       "#h2o-table-1 .h2o-table tr:nth-child(even) {\n",
       "  /* background: #F5F5F5 */\n",
       "}\n",
       "\n",
       "</style>      \n",
       "<div id=\"h2o-table-1\" class=\"h2o-container\">\n",
       "  <table class=\"h2o-table\">\n",
       "    <caption></caption>\n",
       "    <thead></thead>\n",
       "    <tbody><tr><td>H2O_cluster_uptime:</td>\n",
       "<td>06 secs</td></tr>\n",
       "<tr><td>H2O_cluster_timezone:</td>\n",
       "<td>Asia/Kolkata</td></tr>\n",
       "<tr><td>H2O_data_parsing_timezone:</td>\n",
       "<td>UTC</td></tr>\n",
       "<tr><td>H2O_cluster_version:</td>\n",
       "<td>3.46.0.7</td></tr>\n",
       "<tr><td>H2O_cluster_version_age:</td>\n",
       "<td>2 months and 3 days</td></tr>\n",
       "<tr><td>H2O_cluster_name:</td>\n",
       "<td>H2O_from_python_aishw_lzhak0</td></tr>\n",
       "<tr><td>H2O_cluster_total_nodes:</td>\n",
       "<td>1</td></tr>\n",
       "<tr><td>H2O_cluster_free_memory:</td>\n",
       "<td>1.983 Gb</td></tr>\n",
       "<tr><td>H2O_cluster_total_cores:</td>\n",
       "<td>0</td></tr>\n",
       "<tr><td>H2O_cluster_allowed_cores:</td>\n",
       "<td>0</td></tr>\n",
       "<tr><td>H2O_cluster_status:</td>\n",
       "<td>locked, healthy</td></tr>\n",
       "<tr><td>H2O_connection_url:</td>\n",
       "<td>http://127.0.0.1:54321</td></tr>\n",
       "<tr><td>H2O_connection_proxy:</td>\n",
       "<td>{\"http\": null, \"https\": null}</td></tr>\n",
       "<tr><td>H2O_internal_security:</td>\n",
       "<td>False</td></tr>\n",
       "<tr><td>Python_version:</td>\n",
       "<td>3.11.1 final</td></tr></tbody>\n",
       "  </table>\n",
       "</div>\n"
      ],
      "text/plain": [
       "--------------------------  -----------------------------\n",
       "H2O_cluster_uptime:         06 secs\n",
       "H2O_cluster_timezone:       Asia/Kolkata\n",
       "H2O_data_parsing_timezone:  UTC\n",
       "H2O_cluster_version:        3.46.0.7\n",
       "H2O_cluster_version_age:    2 months and 3 days\n",
       "H2O_cluster_name:           H2O_from_python_aishw_lzhak0\n",
       "H2O_cluster_total_nodes:    1\n",
       "H2O_cluster_free_memory:    1.983 Gb\n",
       "H2O_cluster_total_cores:    0\n",
       "H2O_cluster_allowed_cores:  0\n",
       "H2O_cluster_status:         locked, healthy\n",
       "H2O_connection_url:         http://127.0.0.1:54321\n",
       "H2O_connection_proxy:       {\"http\": null, \"https\": null}\n",
       "H2O_internal_security:      False\n",
       "Python_version:             3.11.1 final\n",
       "--------------------------  -----------------------------"
      ]
     },
     "metadata": {},
     "output_type": "display_data"
    }
   ],
   "source": [
    "h2o.init(start_h2o=True, nthreads=-1, max_mem_size=\"2G\", port=54321)"
   ]
  },
  {
   "cell_type": "code",
   "execution_count": 7,
   "id": "7850936b",
   "metadata": {},
   "outputs": [
    {
     "name": "stdout",
     "output_type": "stream",
     "text": [
      "Parse progress: |████████████████████████████████████████████████████████████████| (done) 100%\n",
      "Parse progress: |████████████████████████████████████████████████████████████████| (done) 100%\n"
     ]
    }
   ],
   "source": [
    "train=h2o.H2OFrame(train_df)\n",
    "test=h2o.H2OFrame(test_df)"
   ]
  },
  {
   "cell_type": "code",
   "execution_count": 8,
   "id": "067a068a",
   "metadata": {},
   "outputs": [],
   "source": [
    "target='price'"
   ]
  },
  {
   "cell_type": "code",
   "execution_count": 9,
   "id": "8d944265",
   "metadata": {},
   "outputs": [],
   "source": [
    "features=[col for col in train.columns if col != target]"
   ]
  },
  {
   "cell_type": "code",
   "execution_count": 64,
   "id": "b22ce6e3",
   "metadata": {},
   "outputs": [
    {
     "name": "stdout",
     "output_type": "stream",
     "text": [
      "Cannot build an XGBoost model - no backend found.\n",
      "Not available\n"
     ]
    }
   ],
   "source": [
    "from h2o.estimators.xgboost import H2OXGBoostEstimator\n",
    "\n",
    "\n",
    "if H2OXGBoostEstimator.available():\n",
    "    print(\"It is available\")\n",
    "else:\n",
    "    print('Not available')"
   ]
  },
  {
   "cell_type": "code",
   "execution_count": 17,
   "id": "574aed26",
   "metadata": {},
   "outputs": [
    {
     "name": "stdout",
     "output_type": "stream",
     "text": [
      "('64bit', 'WindowsPE')\n"
     ]
    }
   ],
   "source": [
    "import platform\n",
    "print(platform.architecture())"
   ]
  },
  {
   "cell_type": "code",
   "execution_count": 10,
   "id": "4cc7726b",
   "metadata": {},
   "outputs": [
    {
     "name": "stdout",
     "output_type": "stream",
     "text": [
      "AutoML progress: |\n",
      "10:09:06.842: AutoML: XGBoost is not available; skipping it.\n",
      "\n",
      "███████████████████████████████████████████████████████████████| (done) 100%\n"
     ]
    },
    {
     "data": {
      "text/html": [
       "<pre style='margin: 1em 0 1em 0;'>Model Details\n",
       "=============\n",
       "H2OStackedEnsembleEstimator : Stacked Ensemble\n",
       "Model Key: StackedEnsemble_AllModels_1_AutoML_1_20250531_100906\n",
       "</pre>\n",
       "<div style='margin: 1em 0 1em 0;'>\n",
       "<style>\n",
       "\n",
       "#h2o-table-2.h2o-container {\n",
       "  overflow-x: auto;\n",
       "}\n",
       "#h2o-table-2 .h2o-table {\n",
       "  /* width: 100%; */\n",
       "  margin-top: 1em;\n",
       "  margin-bottom: 1em;\n",
       "}\n",
       "#h2o-table-2 .h2o-table caption {\n",
       "  white-space: nowrap;\n",
       "  caption-side: top;\n",
       "  text-align: left;\n",
       "  /* margin-left: 1em; */\n",
       "  margin: 0;\n",
       "  font-size: larger;\n",
       "}\n",
       "#h2o-table-2 .h2o-table thead {\n",
       "  white-space: nowrap; \n",
       "  position: sticky;\n",
       "  top: 0;\n",
       "  box-shadow: 0 -1px inset;\n",
       "}\n",
       "#h2o-table-2 .h2o-table tbody {\n",
       "  overflow: auto;\n",
       "}\n",
       "#h2o-table-2 .h2o-table th,\n",
       "#h2o-table-2 .h2o-table td {\n",
       "  text-align: right;\n",
       "  /* border: 1px solid; */\n",
       "}\n",
       "#h2o-table-2 .h2o-table tr:nth-child(even) {\n",
       "  /* background: #F5F5F5 */\n",
       "}\n",
       "\n",
       "</style>      \n",
       "<div id=\"h2o-table-2\" class=\"h2o-container\">\n",
       "  <table class=\"h2o-table\">\n",
       "    <caption>Model Summary for Stacked Ensemble: </caption>\n",
       "    <thead><tr><th>key</th>\n",
       "<th>value</th></tr></thead>\n",
       "    <tbody><tr><td>Stacking strategy</td>\n",
       "<td>cross_validation</td></tr>\n",
       "<tr><td>Number of base models (used / total)</td>\n",
       "<td>9/20</td></tr>\n",
       "<tr><td># GBM base models (used / total)</td>\n",
       "<td>8/10</td></tr>\n",
       "<tr><td># DRF base models (used / total)</td>\n",
       "<td>1/2</td></tr>\n",
       "<tr><td># DeepLearning base models (used / total)</td>\n",
       "<td>0/7</td></tr>\n",
       "<tr><td># GLM base models (used / total)</td>\n",
       "<td>0/1</td></tr>\n",
       "<tr><td>Metalearner algorithm</td>\n",
       "<td>GLM</td></tr>\n",
       "<tr><td>Metalearner fold assignment scheme</td>\n",
       "<td>Random</td></tr>\n",
       "<tr><td>Metalearner nfolds</td>\n",
       "<td>5</td></tr>\n",
       "<tr><td>Metalearner fold_column</td>\n",
       "<td>None</td></tr>\n",
       "<tr><td>Custom metalearner hyperparameters</td>\n",
       "<td>None</td></tr></tbody>\n",
       "  </table>\n",
       "</div>\n",
       "</div>\n",
       "<div style='margin: 1em 0 1em 0;'><pre style='margin: 1em 0 1em 0;'>ModelMetricsRegressionGLM: stackedensemble\n",
       "** Reported on train data. **\n",
       "\n",
       "MSE: 1448880.760328509\n",
       "RMSE: 1203.694629184873\n",
       "MAE: 821.8546420506365\n",
       "RMSLE: 0.06597397576316881\n",
       "Mean Residual Deviance: 1448880.760328509\n",
       "R^2: 0.9837258286709777\n",
       "Null degrees of freedom: 9920\n",
       "Residual degrees of freedom: 9911\n",
       "Null deviance: 883328916332.2402\n",
       "Residual deviance: 14374346023.219137\n",
       "AIC: 168918.87979270244</pre></div>\n",
       "<div style='margin: 1em 0 1em 0;'><pre style='margin: 1em 0 1em 0;'>ModelMetricsRegressionGLM: stackedensemble\n",
       "** Reported on cross-validation data. **\n",
       "\n",
       "MSE: 3299853.5613229815\n",
       "RMSE: 1816.5499060920351\n",
       "MAE: 1089.5376666661375\n",
       "RMSLE: 0.09466452176854331\n",
       "Mean Residual Deviance: 3299853.5613229815\n",
       "R^2: 0.9649440443595849\n",
       "Null degrees of freedom: 86831\n",
       "Residual degrees of freedom: 86822\n",
       "Null deviance: 8173837439923.012\n",
       "Residual deviance: 286532884436.7971\n",
       "AIC: 1549735.7766955418</pre></div>\n",
       "<div style='margin: 1em 0 1em 0;'>\n",
       "<style>\n",
       "\n",
       "#h2o-table-3.h2o-container {\n",
       "  overflow-x: auto;\n",
       "}\n",
       "#h2o-table-3 .h2o-table {\n",
       "  /* width: 100%; */\n",
       "  margin-top: 1em;\n",
       "  margin-bottom: 1em;\n",
       "}\n",
       "#h2o-table-3 .h2o-table caption {\n",
       "  white-space: nowrap;\n",
       "  caption-side: top;\n",
       "  text-align: left;\n",
       "  /* margin-left: 1em; */\n",
       "  margin: 0;\n",
       "  font-size: larger;\n",
       "}\n",
       "#h2o-table-3 .h2o-table thead {\n",
       "  white-space: nowrap; \n",
       "  position: sticky;\n",
       "  top: 0;\n",
       "  box-shadow: 0 -1px inset;\n",
       "}\n",
       "#h2o-table-3 .h2o-table tbody {\n",
       "  overflow: auto;\n",
       "}\n",
       "#h2o-table-3 .h2o-table th,\n",
       "#h2o-table-3 .h2o-table td {\n",
       "  text-align: right;\n",
       "  /* border: 1px solid; */\n",
       "}\n",
       "#h2o-table-3 .h2o-table tr:nth-child(even) {\n",
       "  /* background: #F5F5F5 */\n",
       "}\n",
       "\n",
       "</style>      \n",
       "<div id=\"h2o-table-3\" class=\"h2o-container\">\n",
       "  <table class=\"h2o-table\">\n",
       "    <caption>Cross-Validation Metrics Summary: </caption>\n",
       "    <thead><tr><th></th>\n",
       "<th>mean</th>\n",
       "<th>sd</th>\n",
       "<th>cv_1_valid</th>\n",
       "<th>cv_2_valid</th>\n",
       "<th>cv_3_valid</th>\n",
       "<th>cv_4_valid</th>\n",
       "<th>cv_5_valid</th></tr></thead>\n",
       "    <tbody><tr><td>aic</td>\n",
       "<td>309822.97</td>\n",
       "<td>3358.586</td>\n",
       "<td>308063.34</td>\n",
       "<td>308438.8</td>\n",
       "<td>312833.4</td>\n",
       "<td>305950.3</td>\n",
       "<td>313828.97</td></tr>\n",
       "<tr><td>loglikelihood</td>\n",
       "<td>0.0</td>\n",
       "<td>0.0</td>\n",
       "<td>0.0</td>\n",
       "<td>0.0</td>\n",
       "<td>0.0</td>\n",
       "<td>0.0</td>\n",
       "<td>0.0</td></tr>\n",
       "<tr><td>mae</td>\n",
       "<td>1090.0999</td>\n",
       "<td>13.0422945</td>\n",
       "<td>1094.3604</td>\n",
       "<td>1078.3253</td>\n",
       "<td>1084.9994</td>\n",
       "<td>1081.9497</td>\n",
       "<td>1110.8646</td></tr>\n",
       "<tr><td>mean_residual_deviance</td>\n",
       "<td>3304045.5</td>\n",
       "<td>529394.8</td>\n",
       "<td>2910926.2</td>\n",
       "<td>2965393.0</td>\n",
       "<td>3491027.2</td>\n",
       "<td>2998319.5</td>\n",
       "<td>4154561.0</td></tr>\n",
       "<tr><td>mse</td>\n",
       "<td>3304045.5</td>\n",
       "<td>529394.8</td>\n",
       "<td>2910926.2</td>\n",
       "<td>2965393.0</td>\n",
       "<td>3491027.2</td>\n",
       "<td>2998319.5</td>\n",
       "<td>4154561.0</td></tr>\n",
       "<tr><td>null_deviance</td>\n",
       "<td>1634767500000.0000000</td>\n",
       "<td>59795997000.0000000</td>\n",
       "<td>1575937800000.0000000</td>\n",
       "<td>1653002000000.0000000</td>\n",
       "<td>1655234000000.0000000</td>\n",
       "<td>1574520600000.0000000</td>\n",
       "<td>1715143200000.0000000</td></tr>\n",
       "<tr><td>r2</td>\n",
       "<td>0.9649947</td>\n",
       "<td>0.0044966</td>\n",
       "<td>0.9678893</td>\n",
       "<td>0.9688122</td>\n",
       "<td>0.9631497</td>\n",
       "<td>0.9671804</td>\n",
       "<td>0.9579418</td></tr>\n",
       "<tr><td>residual_deviance</td>\n",
       "<td>57387670000.0000000</td>\n",
       "<td>9257794000.0000000</td>\n",
       "<td>50597720000.0000000</td>\n",
       "<td>51553354000.0000000</td>\n",
       "<td>60995228000.0000000</td>\n",
       "<td>51673040000.0000000</td>\n",
       "<td>72119026000.0000000</td></tr>\n",
       "<tr><td>rmse</td>\n",
       "<td>1813.2888</td>\n",
       "<td>141.54985</td>\n",
       "<td>1706.1437</td>\n",
       "<td>1722.0316</td>\n",
       "<td>1868.4291</td>\n",
       "<td>1731.5656</td>\n",
       "<td>2038.274</td></tr>\n",
       "<tr><td>rmsle</td>\n",
       "<td>0.0946874</td>\n",
       "<td>0.0018280</td>\n",
       "<td>0.0965745</td>\n",
       "<td>0.0920283</td>\n",
       "<td>0.0942517</td>\n",
       "<td>0.0943386</td>\n",
       "<td>0.0962441</td></tr></tbody>\n",
       "  </table>\n",
       "</div>\n",
       "</div><pre style=\"font-size: smaller; margin: 1em 0 0 0;\">\n",
       "\n",
       "[tips]\n",
       "Use `model.explain()` to inspect the model.\n",
       "--\n",
       "Use `h2o.display.toggle_user_tips()` to switch on/off this section.</pre>"
      ],
      "text/plain": [
       "Model Details\n",
       "=============\n",
       "H2OStackedEnsembleEstimator : Stacked Ensemble\n",
       "Model Key: StackedEnsemble_AllModels_1_AutoML_1_20250531_100906\n",
       "\n",
       "\n",
       "Model Summary for Stacked Ensemble: \n",
       "key                                        value\n",
       "-----------------------------------------  ----------------\n",
       "Stacking strategy                          cross_validation\n",
       "Number of base models (used / total)       9/20\n",
       "# GBM base models (used / total)           8/10\n",
       "# DRF base models (used / total)           1/2\n",
       "# DeepLearning base models (used / total)  0/7\n",
       "# GLM base models (used / total)           0/1\n",
       "Metalearner algorithm                      GLM\n",
       "Metalearner fold assignment scheme         Random\n",
       "Metalearner nfolds                         5\n",
       "Metalearner fold_column\n",
       "Custom metalearner hyperparameters         None\n",
       "\n",
       "ModelMetricsRegressionGLM: stackedensemble\n",
       "** Reported on train data. **\n",
       "\n",
       "MSE: 1448880.760328509\n",
       "RMSE: 1203.694629184873\n",
       "MAE: 821.8546420506365\n",
       "RMSLE: 0.06597397576316881\n",
       "Mean Residual Deviance: 1448880.760328509\n",
       "R^2: 0.9837258286709777\n",
       "Null degrees of freedom: 9920\n",
       "Residual degrees of freedom: 9911\n",
       "Null deviance: 883328916332.2402\n",
       "Residual deviance: 14374346023.219137\n",
       "AIC: 168918.87979270244\n",
       "\n",
       "ModelMetricsRegressionGLM: stackedensemble\n",
       "** Reported on cross-validation data. **\n",
       "\n",
       "MSE: 3299853.5613229815\n",
       "RMSE: 1816.5499060920351\n",
       "MAE: 1089.5376666661375\n",
       "RMSLE: 0.09466452176854331\n",
       "Mean Residual Deviance: 3299853.5613229815\n",
       "R^2: 0.9649440443595849\n",
       "Null degrees of freedom: 86831\n",
       "Residual degrees of freedom: 86822\n",
       "Null deviance: 8173837439923.012\n",
       "Residual deviance: 286532884436.7971\n",
       "AIC: 1549735.7766955418\n",
       "\n",
       "Cross-Validation Metrics Summary: \n",
       "                        mean         sd           cv_1_valid    cv_2_valid    cv_3_valid    cv_4_valid    cv_5_valid\n",
       "----------------------  -----------  -----------  ------------  ------------  ------------  ------------  ------------\n",
       "aic                     309823       3358.59      308063        308439        312833        305950        313829\n",
       "loglikelihood           0            0            0             0             0             0             0\n",
       "mae                     1090.1       13.0423      1094.36       1078.33       1085          1081.95       1110.86\n",
       "mean_residual_deviance  3.30405e+06  529395       2.91093e+06   2.96539e+06   3.49103e+06   2.99832e+06   4.15456e+06\n",
       "mse                     3.30405e+06  529395       2.91093e+06   2.96539e+06   3.49103e+06   2.99832e+06   4.15456e+06\n",
       "null_deviance           1.63477e+12  5.9796e+10   1.57594e+12   1.653e+12     1.65523e+12   1.57452e+12   1.71514e+12\n",
       "r2                      0.964995     0.00449659   0.967889      0.968812      0.96315       0.96718       0.957942\n",
       "residual_deviance       5.73877e+10  9.25779e+09  5.05977e+10   5.15534e+10   6.09952e+10   5.1673e+10    7.2119e+10\n",
       "rmse                    1813.29      141.55       1706.14       1722.03       1868.43       1731.57       2038.27\n",
       "rmsle                   0.0946874    0.00182805   0.0965745     0.0920283     0.0942517     0.0943386     0.0962441\n",
       "\n",
       "[tips]\n",
       "Use `model.explain()` to inspect the model.\n",
       "--\n",
       "Use `h2o.display.toggle_user_tips()` to switch on/off this section."
      ]
     },
     "execution_count": 10,
     "metadata": {},
     "output_type": "execute_result"
    }
   ],
   "source": [
    "aml=H2OAutoML(max_models=20,seed=42)\n",
    "aml.train(x=features,y=target,training_frame=train)"
   ]
  },
  {
   "cell_type": "code",
   "execution_count": 14,
   "id": "f85c3358",
   "metadata": {},
   "outputs": [
    {
     "name": "stdout",
     "output_type": "stream",
     "text": [
      "model_id                                                    rmse          mse      mae        rmsle    mean_residual_deviance\n",
      "StackedEnsemble_AllModels_1_AutoML_1_20250531_100906     1816.55  3.29985e+06  1089.54    0.0946645               3.29985e+06\n",
      "StackedEnsemble_BestOfFamily_1_AutoML_1_20250531_100906  1826.81  3.33723e+06  1098.02    0.0955216               3.33723e+06\n",
      "GBM_4_AutoML_1_20250531_100906                           1860.79  3.46253e+06  1129.36    0.0981212               3.46253e+06\n",
      "GBM_grid_1_AutoML_1_20250531_100906_model_4              1875.61  3.51791e+06  1113.04    0.0983567               3.51791e+06\n",
      "DRF_1_AutoML_1_20250531_100906                           1882.71  3.54461e+06  1119.51    0.0995633               3.54461e+06\n",
      "GBM_grid_1_AutoML_1_20250531_100906_model_5              1887.55  3.56286e+06  1153.86    0.0993828               3.56286e+06\n",
      "GBM_3_AutoML_1_20250531_100906                           1898.39  3.60388e+06  1176.54  nan                       3.60388e+06\n",
      "GBM_grid_1_AutoML_1_20250531_100906_model_2              1904.52  3.62718e+06  1152.58    0.098411                3.62718e+06\n",
      "GBM_2_AutoML_1_20250531_100906                           1928.78  3.72018e+06  1198.07    0.10323                 3.72018e+06\n",
      "GBM_1_AutoML_1_20250531_100906                           1929.06  3.72127e+06  1131.88  nan                       3.72127e+06\n",
      "[22 rows x 6 columns]\n",
      "\n"
     ]
    }
   ],
   "source": [
    "print(aml.leaderboard)"
   ]
  },
  {
   "cell_type": "code",
   "execution_count": 11,
   "id": "3857eaa5",
   "metadata": {},
   "outputs": [
    {
     "name": "stdout",
     "output_type": "stream",
     "text": [
      "R2 score (from H2o): 0.9683747096993095\n"
     ]
    }
   ],
   "source": [
    "perf=aml.leader.model_performance(test_data=test)\n",
    "print(f\"R2 score (from H2o): {perf.r2()}\")"
   ]
  },
  {
   "cell_type": "code",
   "execution_count": 12,
   "id": "d06a9e10",
   "metadata": {},
   "outputs": [
    {
     "name": "stdout",
     "output_type": "stream",
     "text": [
      "stackedensemble prediction progress: |███████████████████████████████████████████| (done) 100%\n",
      "  predict\n",
      "  19887.1\n",
      "  17451.2\n",
      "  24325.4\n",
      "  18680.6\n",
      "  15719.6\n",
      "  30599.3\n",
      "  11613.4\n",
      "  18433.8\n",
      "  34136.6\n",
      "  16751.4\n",
      "[21708 rows x 1 column]\n",
      "\n"
     ]
    }
   ],
   "source": [
    "predictions=aml.leader.predict(test)\n",
    "print(predictions)"
   ]
  },
  {
   "cell_type": "code",
   "execution_count": 13,
   "id": "bfc5fb15",
   "metadata": {},
   "outputs": [
    {
     "name": "stdout",
     "output_type": "stream",
     "text": [
      "stackedensemble prediction progress: |"
     ]
    },
    {
     "name": "stderr",
     "output_type": "stream",
     "text": [
      "d:\\Code files\\Used Car Price Prediction\\.venv\\Lib\\site-packages\\h2o\\frame.py:1983: H2ODependencyWarning: Converting H2O frame to pandas dataframe using single-thread.  For faster conversion using multi-thread, install polars and pyarrow and use it as pandas_df = h2o_df.as_data_frame(use_multi_thread=True)\n",
      "\n",
      "  warnings.warn(\"Converting H2O frame to pandas dataframe using single-thread.  For faster conversion using\"\n"
     ]
    },
    {
     "name": "stdout",
     "output_type": "stream",
     "text": [
      "███████████████████████████████████████████| (done) 100%\n",
      "R2 score (from sklearn): 0.9683747096993096\n"
     ]
    },
    {
     "name": "stderr",
     "output_type": "stream",
     "text": [
      "d:\\Code files\\Used Car Price Prediction\\.venv\\Lib\\site-packages\\h2o\\frame.py:1983: H2ODependencyWarning: Converting H2O frame to pandas dataframe using single-thread.  For faster conversion using multi-thread, install polars and pyarrow and use it as pandas_df = h2o_df.as_data_frame(use_multi_thread=True)\n",
      "\n",
      "  warnings.warn(\"Converting H2O frame to pandas dataframe using single-thread.  For faster conversion using\"\n"
     ]
    }
   ],
   "source": [
    "from sklearn.metrics import r2_score\n",
    "y_true=test['price'].as_data_frame().values.flatten()\n",
    "y_pred_h2o=aml.leader.predict(test).as_data_frame().values.flatten()\n",
    "\n",
    "r2=r2_score(y_true,y_pred_h2o)\n",
    "print(f\"R2 score (from sklearn): {r2}\")"
   ]
  },
  {
   "cell_type": "code",
   "execution_count": 15,
   "id": "0f386549",
   "metadata": {},
   "outputs": [
    {
     "name": "stderr",
     "output_type": "stream",
     "text": [
      "d:\\Code files\\Used Car Price Prediction\\.venv\\Lib\\site-packages\\h2o\\frame.py:1983: H2ODependencyWarning: Converting H2O frame to pandas dataframe using single-thread.  For faster conversion using multi-thread, install polars and pyarrow and use it as pandas_df = h2o_df.as_data_frame(use_multi_thread=True)\n",
      "\n",
      "  warnings.warn(\"Converting H2O frame to pandas dataframe using single-thread.  For faster conversion using\"\n"
     ]
    },
    {
     "data": {
      "text/html": [
       "<div>\n",
       "<style scoped>\n",
       "    .dataframe tbody tr th:only-of-type {\n",
       "        vertical-align: middle;\n",
       "    }\n",
       "\n",
       "    .dataframe tbody tr th {\n",
       "        vertical-align: top;\n",
       "    }\n",
       "\n",
       "    .dataframe thead th {\n",
       "        text-align: right;\n",
       "    }\n",
       "</style>\n",
       "<table border=\"1\" class=\"dataframe\">\n",
       "  <thead>\n",
       "    <tr style=\"text-align: right;\">\n",
       "      <th></th>\n",
       "      <th>predict</th>\n",
       "    </tr>\n",
       "  </thead>\n",
       "  <tbody>\n",
       "    <tr>\n",
       "      <th>0</th>\n",
       "      <td>19887.105283</td>\n",
       "    </tr>\n",
       "    <tr>\n",
       "      <th>1</th>\n",
       "      <td>17451.191427</td>\n",
       "    </tr>\n",
       "    <tr>\n",
       "      <th>2</th>\n",
       "      <td>24325.362300</td>\n",
       "    </tr>\n",
       "    <tr>\n",
       "      <th>3</th>\n",
       "      <td>18680.597694</td>\n",
       "    </tr>\n",
       "    <tr>\n",
       "      <th>4</th>\n",
       "      <td>15719.620589</td>\n",
       "    </tr>\n",
       "    <tr>\n",
       "      <th>...</th>\n",
       "      <td>...</td>\n",
       "    </tr>\n",
       "    <tr>\n",
       "      <th>21703</th>\n",
       "      <td>15547.373832</td>\n",
       "    </tr>\n",
       "    <tr>\n",
       "      <th>21704</th>\n",
       "      <td>9251.969469</td>\n",
       "    </tr>\n",
       "    <tr>\n",
       "      <th>21705</th>\n",
       "      <td>11698.689109</td>\n",
       "    </tr>\n",
       "    <tr>\n",
       "      <th>21706</th>\n",
       "      <td>12132.386528</td>\n",
       "    </tr>\n",
       "    <tr>\n",
       "      <th>21707</th>\n",
       "      <td>7173.141572</td>\n",
       "    </tr>\n",
       "  </tbody>\n",
       "</table>\n",
       "<p>21708 rows × 1 columns</p>\n",
       "</div>"
      ],
      "text/plain": [
       "            predict\n",
       "0      19887.105283\n",
       "1      17451.191427\n",
       "2      24325.362300\n",
       "3      18680.597694\n",
       "4      15719.620589\n",
       "...             ...\n",
       "21703  15547.373832\n",
       "21704   9251.969469\n",
       "21705  11698.689109\n",
       "21706  12132.386528\n",
       "21707   7173.141572\n",
       "\n",
       "[21708 rows x 1 columns]"
      ]
     },
     "execution_count": 15,
     "metadata": {},
     "output_type": "execute_result"
    }
   ],
   "source": [
    "predictions_df=predictions.as_data_frame()\n",
    "predictions_df"
   ]
  },
  {
   "cell_type": "code",
   "execution_count": 71,
   "id": "6e9b024b",
   "metadata": {},
   "outputs": [
    {
     "name": "stdout",
     "output_type": "stream",
     "text": [
      "model_id                                                    rmse          mse      mae        rmsle    mean_residual_deviance\n",
      "StackedEnsemble_AllModels_1_AutoML_3_20250523_180313     1816.55  3.29985e+06  1089.54    0.0946645               3.29985e+06\n",
      "StackedEnsemble_BestOfFamily_1_AutoML_3_20250523_180313  1826.81  3.33723e+06  1098.02    0.0955216               3.33723e+06\n",
      "GBM_4_AutoML_3_20250523_180313                           1860.79  3.46253e+06  1129.36    0.0981212               3.46253e+06\n",
      "GBM_grid_1_AutoML_3_20250523_180313_model_4              1875.61  3.51791e+06  1113.04    0.0983567               3.51791e+06\n",
      "DRF_1_AutoML_3_20250523_180313                           1882.71  3.54461e+06  1119.51    0.0995633               3.54461e+06\n",
      "GBM_grid_1_AutoML_3_20250523_180313_model_5              1887.55  3.56286e+06  1153.86    0.0993828               3.56286e+06\n",
      "GBM_3_AutoML_3_20250523_180313                           1898.39  3.60388e+06  1176.54  nan                       3.60388e+06\n",
      "GBM_grid_1_AutoML_3_20250523_180313_model_2              1904.52  3.62718e+06  1152.58    0.098411                3.62718e+06\n",
      "GBM_2_AutoML_3_20250523_180313                           1928.78  3.72018e+06  1198.07    0.10323                 3.72018e+06\n",
      "GBM_1_AutoML_3_20250523_180313                           1929.06  3.72127e+06  1131.88  nan                       3.72127e+06\n",
      "[22 rows x 6 columns]\n",
      "\n"
     ]
    },
    {
     "name": "stderr",
     "output_type": "stream",
     "text": [
      "d:\\Code files\\Used Car Price Prediction\\.venv\\Lib\\site-packages\\h2o\\frame.py:1983: H2ODependencyWarning: Converting H2O frame to pandas dataframe using single-thread.  For faster conversion using multi-thread, install polars and pyarrow and use it as pandas_df = h2o_df.as_data_frame(use_multi_thread=True)\n",
      "\n",
      "  warnings.warn(\"Converting H2O frame to pandas dataframe using single-thread.  For faster conversion using\"\n"
     ]
    },
    {
     "name": "stdout",
     "output_type": "stream",
     "text": [
      "No XGBoost model found in leaderboard.\n"
     ]
    }
   ],
   "source": [
    "# View the leaderboard\n",
    "lb = aml.leaderboard\n",
    "print(lb)\n",
    "\n",
    "# Get the best XGBoost model (if available)\n",
    "xgb_models = [model_id for model_id in lb['model_id'].as_data_frame()['model_id'] if \"XGBoost\" in model_id]\n",
    "\n",
    "if xgb_models:\n",
    "    xgb_model = h2o.get_model(xgb_models[0])\n",
    "    shap_values = xgb_model.predict_contributions(test)\n",
    "    shap_values.head()\n",
    "else:\n",
    "    print(\"No XGBoost model found in leaderboard.\")\n"
   ]
  },
  {
   "cell_type": "code",
   "execution_count": 16,
   "id": "90b030ad",
   "metadata": {},
   "outputs": [],
   "source": [
    "model_path=h2o.save_model(model=aml.leader,path='models',force=True,filename='stacked_h2o_automl_model')"
   ]
  },
  {
   "cell_type": "markdown",
   "id": "2decf2c6",
   "metadata": {},
   "source": [
    "## Comparing h2o model performance with XGBoost"
   ]
  },
  {
   "cell_type": "code",
   "execution_count": 6,
   "id": "9a0492bb",
   "metadata": {},
   "outputs": [],
   "source": [
    "xgb_model=joblib.load(\"models/best_xgb_model.pkl\")\n",
    "y_pred=xgb_model.predict(x_test)"
   ]
  },
  {
   "cell_type": "code",
   "execution_count": 13,
   "id": "e9496ae3",
   "metadata": {},
   "outputs": [
    {
     "name": "stdout",
     "output_type": "stream",
     "text": [
      "stackedensemble prediction progress: |"
     ]
    },
    {
     "name": "stdout",
     "output_type": "stream",
     "text": [
      "███████████████████████████████████████████| (done) 100%\n"
     ]
    },
    {
     "name": "stderr",
     "output_type": "stream",
     "text": [
      "d:\\Code files\\Used Car Price Prediction\\.venv\\Lib\\site-packages\\h2o\\frame.py:1983: H2ODependencyWarning: Converting H2O frame to pandas dataframe using single-thread.  For faster conversion using multi-thread, install polars and pyarrow and use it as pandas_df = h2o_df.as_data_frame(use_multi_thread=True)\n",
      "\n",
      "  warnings.warn(\"Converting H2O frame to pandas dataframe using single-thread.  For faster conversion using\"\n"
     ]
    }
   ],
   "source": [
    "aml = h2o.load_model(\"models/StackedEnsemble_AllModels_1_AutoML_2_20250523_92206\")\n",
    "y_pred_h2o=aml.predict(test).as_data_frame().values.flatten()"
   ]
  },
  {
   "cell_type": "code",
   "execution_count": 15,
   "id": "132041b5",
   "metadata": {},
   "outputs": [
    {
     "name": "stdout",
     "output_type": "stream",
     "text": [
      "R2 score (from H2o): 0.9730859032826402\n"
     ]
    }
   ],
   "source": [
    "perf=aml.model_performance(test_data=test)\n",
    "print(f\"R2 score (from H2o): {perf.r2()}\")"
   ]
  },
  {
   "cell_type": "code",
   "execution_count": 17,
   "id": "82c016fc",
   "metadata": {},
   "outputs": [
    {
     "name": "stderr",
     "output_type": "stream",
     "text": [
      "d:\\Code files\\Used Car Price Prediction\\.venv\\Lib\\site-packages\\h2o\\frame.py:1983: H2ODependencyWarning: Converting H2O frame to pandas dataframe using single-thread.  For faster conversion using multi-thread, install polars and pyarrow and use it as pandas_df = h2o_df.as_data_frame(use_multi_thread=True)\n",
      "\n",
      "  warnings.warn(\"Converting H2O frame to pandas dataframe using single-thread.  For faster conversion using\"\n"
     ]
    }
   ],
   "source": [
    "y_true=test['price'].as_data_frame().values.flatten()"
   ]
  },
  {
   "cell_type": "code",
   "execution_count": 18,
   "id": "d6fc8631",
   "metadata": {},
   "outputs": [
    {
     "name": "stdout",
     "output_type": "stream",
     "text": [
      "R2 score (from H2o): 0.9730859032826402\n",
      "r2 score (from sklearn XGBoostRegressor): 0.967197597026825\n"
     ]
    }
   ],
   "source": [
    "print(f\"R2 score (from H2o): {perf.r2()}\")\n",
    "print(f\"r2 score (from sklearn XGBoostRegressor): {r2_score(y_true,y_pred)}\")"
   ]
  },
  {
   "cell_type": "code",
   "execution_count": 19,
   "id": "b7919ee8",
   "metadata": {},
   "outputs": [
    {
     "data": {
      "image/png": "[encoded data removed]",
      "text/plain": [
       "<Figure size 1200x800 with 4 Axes>"
      ]
     },
     "metadata": {},
     "output_type": "display_data"
    }
   ],
   "source": [
    "import matplotlib.pyplot as plt\n",
    "\n",
    "# Scores for both models\n",
    "metrics = ['RMSE', 'MSE', 'MAE', 'R2 Score']\n",
    "\n",
    "# <---------- H2o model metrics ---------->\n",
    "h2o_mse=mean_squared_error(y_true,y_pred_h2o)\n",
    "h2o_rmse=root_mean_squared_error(y_true,y_pred_h2o)\n",
    "h2o_mae=mean_absolute_error(y_true,y_pred_h2o)\n",
    "h2o_r2=r2_score(y_true,y_pred_h2o)\n",
    "\n",
    "# <---------- XGBoostRegressor model metrics ---------->\n",
    "xgb_mse=mean_squared_error(y_true,y_pred)\n",
    "xgb_rmse=root_mean_squared_error(y_true,y_pred)\n",
    "xgb_mae=mean_absolute_error(y_true,y_pred)\n",
    "xgb_r2=r2_score(y_true,y_pred)\n",
    "\n",
    "\n",
    "h2o_scores = [h2o_mse,h2o_rmse,h2o_mae,h2o_r2]\n",
    "xgb_scores = [xgb_mse, xgb_rmse, xgb_mae, xgb_r2]\n",
    "\n",
    "# Plotting\n",
    "x = np.arange(len(metrics))\n",
    "bar_width = 0.35\n",
    "\n",
    "# Plot with individual subplots for each metric\n",
    "fig, axs = plt.subplots(2, 2, figsize=(12, 8))\n",
    "axs = axs.flatten()\n",
    "\n",
    "for i, metric in enumerate(metrics):\n",
    "    axs[i].bar(x[i] - bar_width/2, h2o_scores[i], width=bar_width, label='H2O AutoML')\n",
    "    axs[i].bar(x[i] + bar_width/2, xgb_scores[i], width=bar_width, label='XGBoost (sklearn)')\n",
    "    axs[i].set_title(metric)\n",
    "    axs[i].legend()\n",
    "    axs[i].grid(True, linestyle='--', alpha=0.6)\n",
    "\n",
    "plt.suptitle('Evaluation Metrics Comparison (H2O vs XGBoost)', fontsize=16)\n",
    "plt.tight_layout(rect=[0, 0.03, 1, 0.95])\n",
    "plt.show()\n"
   ]
  },
  {
   "cell_type": "markdown",
   "id": "c1f40d66",
   "metadata": {},
   "source": [
    "## AutoKeras Regression"
   ]
  },
  {
   "cell_type": "code",
   "execution_count": 21,
   "id": "cf2ace0f",
   "metadata": {},
   "outputs": [],
   "source": [
    "scaler = StandardScaler()\n",
    "y_train_scaled = scaler.fit_transform(y_train.reshape(-1, 1)).ravel()\n",
    "y_test_scaled = scaler.transform(y_test.reshape(-1, 1)).ravel()"
   ]
  },
  {
   "cell_type": "code",
   "execution_count": 22,
   "id": "4c8705f0",
   "metadata": {},
   "outputs": [
    {
     "name": "stdout",
     "output_type": "stream",
     "text": [
      "Trial 5 Complete [00h 01m 58s]\n",
      "val_loss: 3.408460855484009\n",
      "\n",
      "Best val_loss So Far: 0.2895430624485016\n",
      "Total elapsed time: 00h 08m 48s\n",
      "Epoch 1/10\n",
      "\u001b[1m2714/2714\u001b[0m \u001b[32m━━━━━━━━━━━━━━━━━━━━\u001b[0m\u001b[37m\u001b[0m \u001b[1m13s\u001b[0m 4ms/step - loss: 415918.9688 - mean_squared_error: 415918.9688 - val_loss: 0.4415 - val_mean_squared_error: 0.4415\n",
      "Epoch 2/10\n",
      "\u001b[1m2714/2714\u001b[0m \u001b[32m━━━━━━━━━━━━━━━━━━━━\u001b[0m\u001b[37m\u001b[0m \u001b[1m12s\u001b[0m 4ms/step - loss: 146.6036 - mean_squared_error: 146.6036 - val_loss: 0.9890 - val_mean_squared_error: 0.9890\n",
      "Epoch 3/10\n",
      "\u001b[1m2714/2714\u001b[0m \u001b[32m━━━━━━━━━━━━━━━━━━━━\u001b[0m\u001b[37m\u001b[0m \u001b[1m12s\u001b[0m 4ms/step - loss: 1558.5109 - mean_squared_error: 1558.5109 - val_loss: 0.9998 - val_mean_squared_error: 0.9998\n",
      "Epoch 4/10\n",
      "\u001b[1m2714/2714\u001b[0m \u001b[32m━━━━━━━━━━━━━━━━━━━━\u001b[0m\u001b[37m\u001b[0m \u001b[1m13s\u001b[0m 5ms/step - loss: 494.6209 - mean_squared_error: 494.6209 - val_loss: 203.5345 - val_mean_squared_error: 203.5345\n",
      "Epoch 5/10\n",
      "\u001b[1m2714/2714\u001b[0m \u001b[32m━━━━━━━━━━━━━━━━━━━━\u001b[0m\u001b[37m\u001b[0m \u001b[1m10s\u001b[0m 4ms/step - loss: 1463.8987 - mean_squared_error: 1463.8987 - val_loss: 6156.1797 - val_mean_squared_error: 6156.1797\n",
      "Epoch 6/10\n",
      "\u001b[1m2714/2714\u001b[0m \u001b[32m━━━━━━━━━━━━━━━━━━━━\u001b[0m\u001b[37m\u001b[0m \u001b[1m10s\u001b[0m 4ms/step - loss: 480.6320 - mean_squared_error: 480.6320 - val_loss: 707.3263 - val_mean_squared_error: 707.3263\n",
      "Epoch 7/10\n",
      "\u001b[1m2714/2714\u001b[0m \u001b[32m━━━━━━━━━━━━━━━━━━━━\u001b[0m\u001b[37m\u001b[0m \u001b[1m10s\u001b[0m 4ms/step - loss: 2322.6499 - mean_squared_error: 2322.6499 - val_loss: 0.3856 - val_mean_squared_error: 0.3856\n",
      "Epoch 8/10\n",
      "\u001b[1m2714/2714\u001b[0m \u001b[32m━━━━━━━━━━━━━━━━━━━━\u001b[0m\u001b[37m\u001b[0m \u001b[1m10s\u001b[0m 4ms/step - loss: 933.1716 - mean_squared_error: 933.1716 - val_loss: 623.4771 - val_mean_squared_error: 623.4771\n",
      "Epoch 9/10\n",
      "\u001b[1m2714/2714\u001b[0m \u001b[32m━━━━━━━━━━━━━━━━━━━━\u001b[0m\u001b[37m\u001b[0m \u001b[1m10s\u001b[0m 4ms/step - loss: 1220.5115 - mean_squared_error: 1220.5115 - val_loss: 11.1975 - val_mean_squared_error: 11.1975\n",
      "Epoch 10/10\n",
      "\u001b[1m2714/2714\u001b[0m \u001b[32m━━━━━━━━━━━━━━━━━━━━\u001b[0m\u001b[37m\u001b[0m \u001b[1m10s\u001b[0m 4ms/step - loss: 589.0651 - mean_squared_error: 589.0651 - val_loss: 79.1610 - val_mean_squared_error: 79.1610\n"
     ]
    },
    {
     "data": {
      "text/plain": [
       "<keras.src.callbacks.history.History at 0x21a8795d050>"
      ]
     },
     "execution_count": 22,
     "metadata": {},
     "output_type": "execute_result"
    }
   ],
   "source": [
    "# Define the input block and output head\n",
    "input_node = ak.Input()\n",
    "output_node = RegressionHead()(input_node)\n",
    "\n",
    "# Build AutoModel\n",
    "model = AutoModel(inputs=input_node, outputs=output_node, max_trials=5, overwrite=True)\n",
    "\n",
    "# Fit the model\n",
    "model.fit(x=x_train, \n",
    "          y=y_train_scaled,\n",
    "          epochs=10,\n",
    "          validation_data=(x_test,y_test_scaled))\n"
   ]
  },
  {
   "cell_type": "code",
   "execution_count": 23,
   "id": "117bda1c",
   "metadata": {},
   "outputs": [
    {
     "name": "stderr",
     "output_type": "stream",
     "text": [
      "d:\\Code files\\Used Car Price Prediction\\.venv\\Lib\\site-packages\\keras\\src\\saving\\saving_lib.py:802: UserWarning: Skipping variable loading for optimizer 'adam', because it has 2 variables whereas the saved optimizer has 6 variables. \n",
      "  saveable.load_own_variables(weights_store.get(inner_path))\n"
     ]
    },
    {
     "name": "stdout",
     "output_type": "stream",
     "text": [
      "\u001b[1m679/679\u001b[0m \u001b[32m━━━━━━━━━━━━━━━━━━━━\u001b[0m\u001b[37m\u001b[0m \u001b[1m3s\u001b[0m 3ms/step - loss: 0.3040 - mean_squared_error: 0.3040\n"
     ]
    },
    {
     "data": {
      "text/plain": [
       "[0.2895430624485016, 0.2895430624485016]"
      ]
     },
     "execution_count": 23,
     "metadata": {},
     "output_type": "execute_result"
    }
   ],
   "source": [
    "best = model.export_model()     \n",
    "best.evaluate(x_test, y_test_scaled)"
   ]
  },
  {
   "cell_type": "code",
   "execution_count": 24,
   "id": "d49ed268",
   "metadata": {},
   "outputs": [
    {
     "name": "stdout",
     "output_type": "stream",
     "text": [
      "\u001b[1m679/679\u001b[0m \u001b[32m━━━━━━━━━━━━━━━━━━━━\u001b[0m\u001b[37m\u001b[0m \u001b[1m2s\u001b[0m 2ms/step\n",
      "R2 score: 0.7257238644868049\n"
     ]
    }
   ],
   "source": [
    "y_pred=best.predict(x_test).flatten()\n",
    "print(f\"R2 score: {r2_score(y_test_scaled,y_pred)}\")"
   ]
  },
  {
   "cell_type": "code",
   "execution_count": 26,
   "id": "72446063",
   "metadata": {},
   "outputs": [
    {
     "name": "stderr",
     "output_type": "stream",
     "text": [
      "WARNING:absl:The `save_format` argument is deprecated in Keras 3. We recommend removing this argument as it can be inferred from the file path. Received: save_format=tf\n",
      "WARNING:absl:You are saving your model as an HDF5 file via `model.save()` or `keras.saving.save_model(model)`. This file format is considered legacy. We recommend using instead the native Keras format, e.g. `model.save('my_model.keras')` or `keras.saving.save_model(model, 'my_model.keras')`. \n"
     ]
    }
   ],
   "source": [
    "best.save(\"models/best_model_autokeras.h5\",save_format=\"tf\")"
   ]
  },
  {
   "cell_type": "code",
   "execution_count": null,
   "id": "1fc41e24",
   "metadata": {},
   "outputs": [],
   "source": [
    "#Loading the model\n",
    "#model = load_model(\"best_model.h5\", custom_objects=ak.CUSTOM_OBJECTS)"
   ]
  }
 ],
 "metadata": {
  "kernelspec": {
   "display_name": ".venv",
   "language": "python",
   "name": "python3"
  },
  "language_info": {
   "codemirror_mode": {
    "name": "ipython",
    "version": 3
   },
   "file_extension": ".py",
   "mimetype": "text/x-python",
   "name": "python",
   "nbconvert_exporter": "python",
   "pygments_lexer": "ipython3",
   "version": "3.11.1"
  }
 },
 "nbformat": 4,
 "nbformat_minor": 5
}
